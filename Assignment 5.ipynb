{
 "cells": [
  {
   "cell_type": "code",
   "execution_count": 12,
   "metadata": {},
   "outputs": [
    {
     "name": "stdout",
     "output_type": "stream",
     "text": [
      "Enter number to find factorial: 7\n",
      "Faactorial is: 5040\n"
     ]
    }
   ],
   "source": [
    "def factorial(num):\n",
    "    prev=1\n",
    "    while num!=1:\n",
    "        prev=prev*num\n",
    "        num=num-1\n",
    "    print(\"Faactorial is:\", prev)\n",
    "\n",
    "factorial(int(input(\"Enter number to find factorial: \")))\n"
   ]
  },
  {
   "cell_type": "code",
   "execution_count": 30,
   "metadata": {},
   "outputs": [
    {
     "name": "stdout",
     "output_type": "stream",
     "text": [
      "Enter your string to check Upper or Lower casemaaAzz\n",
      "This is a lowercase letter:  m\n",
      "This is a lowercase letter:  a\n",
      "This is a lowercase letter:  a\n",
      "This is an uppercase letter: A\n",
      "This is a lowercase letter:  z\n",
      "This is a lowercase letter:  z\n"
     ]
    }
   ],
   "source": [
    "def Check(string):\n",
    "    for i in string:\n",
    "        if (i==i.lower()):\n",
    "            print(\"This is a lowercase letter: \", i)\n",
    "        else:\n",
    "            print(\"This is an uppercase letter:\", i)\n",
    "\n",
    "Check(input(\"Enter your string to check Upper or Lower case\"))"
   ]
  },
  {
   "cell_type": "code",
   "execution_count": 42,
   "metadata": {},
   "outputs": [
    {
     "name": "stdout",
     "output_type": "stream",
     "text": [
      "Even number:  12\n",
      "Odd number:  43\n",
      "Odd number:  77\n",
      "Even number:  64\n",
      "Even number:  56\n",
      "Even number:  88\n",
      "Odd number:  99\n"
     ]
    }
   ],
   "source": [
    "def even(num):\n",
    "    for i in num:\n",
    "        if(i%2==0):\n",
    "            print(\"Even number: \",i)\n",
    "        else:\n",
    "            print(\"Odd number: \",i)\n",
    "\n",
    "list1=[12,43,77,64,56,88,99]            \n",
    "even(list1)"
   ]
  },
  {
   "cell_type": "code",
   "execution_count": 15,
   "metadata": {},
   "outputs": [
    {
     "name": "stdout",
     "output_type": "stream",
     "text": [
      "Enter a string: maaz\n",
      "This is not a palindrome\n"
     ]
    }
   ],
   "source": [
    "def palindrome(string1):\n",
    "    temp=[]\n",
    "    for i in string1:\n",
    "        temp.append(i)\n",
    "    if (temp==temp[::-1]):\n",
    "        print(\"A palindrome!\")\n",
    "    else:\n",
    "        print(\"This is not a palindrome\")\n",
    "    \n",
    "palindrome(input(\"Enter a string: \"))\n",
    "    \n",
    "    "
   ]
  },
  {
   "cell_type": "code",
   "execution_count": 51,
   "metadata": {},
   "outputs": [
    {
     "ename": "TypeError",
     "evalue": "'float' object cannot be interpreted as an integer",
     "output_type": "error",
     "traceback": [
      "\u001b[1;31m---------------------------------------------------------------------------\u001b[0m",
      "\u001b[1;31mTypeError\u001b[0m                                 Traceback (most recent call last)",
      "\u001b[1;32m<ipython-input-51-a9dba05e1a89>\u001b[0m in \u001b[0;36m<module>\u001b[1;34m\u001b[0m\n\u001b[0;32m     15\u001b[0m             \u001b[0mprint\u001b[0m\u001b[1;33m(\u001b[0m\u001b[1;34m\"A prime number! \"\u001b[0m\u001b[1;33m,\u001b[0m\u001b[0mnum\u001b[0m\u001b[1;33m)\u001b[0m\u001b[1;33m\u001b[0m\u001b[1;33m\u001b[0m\u001b[0m\n\u001b[0;32m     16\u001b[0m \u001b[1;33m\u001b[0m\u001b[0m\n\u001b[1;32m---> 17\u001b[1;33m \u001b[0mprime\u001b[0m\u001b[1;33m(\u001b[0m\u001b[1;36m2.3\u001b[0m\u001b[1;33m)\u001b[0m\u001b[1;33m\u001b[0m\u001b[1;33m\u001b[0m\u001b[0m\n\u001b[0m",
      "\u001b[1;32m<ipython-input-51-a9dba05e1a89>\u001b[0m in \u001b[0;36mprime\u001b[1;34m(num)\u001b[0m\n\u001b[0;32m      4\u001b[0m         \u001b[0mprint\u001b[0m\u001b[1;33m(\u001b[0m\u001b[1;34m\"please enter a number greater than 1\"\u001b[0m\u001b[1;33m)\u001b[0m\u001b[1;33m\u001b[0m\u001b[1;33m\u001b[0m\u001b[0m\n\u001b[0;32m      5\u001b[0m     \u001b[1;32melse\u001b[0m\u001b[1;33m:\u001b[0m\u001b[1;33m\u001b[0m\u001b[1;33m\u001b[0m\u001b[0m\n\u001b[1;32m----> 6\u001b[1;33m         \u001b[1;32mfor\u001b[0m \u001b[0mi\u001b[0m \u001b[1;32min\u001b[0m \u001b[0mrange\u001b[0m\u001b[1;33m(\u001b[0m\u001b[1;36m2\u001b[0m\u001b[1;33m,\u001b[0m\u001b[0mnum\u001b[0m\u001b[1;33m)\u001b[0m\u001b[1;33m:\u001b[0m\u001b[1;33m\u001b[0m\u001b[1;33m\u001b[0m\u001b[0m\n\u001b[0m\u001b[0;32m      7\u001b[0m             \u001b[1;32mif\u001b[0m \u001b[1;33m(\u001b[0m\u001b[0mnum\u001b[0m\u001b[1;33m%\u001b[0m\u001b[0mi\u001b[0m\u001b[1;33m==\u001b[0m\u001b[1;36m0\u001b[0m\u001b[1;33m)\u001b[0m\u001b[1;33m:\u001b[0m\u001b[1;33m\u001b[0m\u001b[1;33m\u001b[0m\u001b[0m\n\u001b[0;32m      8\u001b[0m                 \u001b[0mcount\u001b[0m\u001b[1;33m=\u001b[0m\u001b[0mcount\u001b[0m\u001b[1;33m+\u001b[0m\u001b[1;36m1\u001b[0m\u001b[1;33m\u001b[0m\u001b[1;33m\u001b[0m\u001b[0m\n",
      "\u001b[1;31mTypeError\u001b[0m: 'float' object cannot be interpreted as an integer"
     ]
    }
   ],
   "source": [
    "def prime(num):\n",
    "    count=0\n",
    "    if (num<2):\n",
    "        print(\"please enter a number greater than 1\")\n",
    "    else:\n",
    "        for i in range(2,num):\n",
    "            if (num%i==0):\n",
    "                count=count+1\n",
    "                break;\n",
    "            else: \n",
    "                continue;\n",
    "        if (count>0):\n",
    "            print(\"Not a prime number \",num)\n",
    "        else:\n",
    "            print(\"A prime number! \",num)\n",
    "\n",
    "prime(2.3)"
   ]
  },
  {
   "cell_type": "code",
   "execution_count": 54,
   "metadata": {},
   "outputs": [
    {
     "name": "stdout",
     "output_type": "stream",
     "text": [
      "apples\n",
      "oranges\n",
      "pears\n",
      "meat\n",
      "soap\n",
      "shampoo\n"
     ]
    }
   ],
   "source": [
    "def shopping(*param):\n",
    "    for i in param:\n",
    "        print(i)\n",
    "\n",
    "shopping(\"apples\", \"oranges\", \"pears\", \"meat\", \"soap\", \"shampoo\")"
   ]
  },
  {
   "cell_type": "code",
   "execution_count": null,
   "metadata": {},
   "outputs": [],
   "source": []
  },
  {
   "cell_type": "code",
   "execution_count": null,
   "metadata": {},
   "outputs": [],
   "source": []
  },
  {
   "cell_type": "code",
   "execution_count": null,
   "metadata": {},
   "outputs": [],
   "source": []
  }
 ],
 "metadata": {
  "kernelspec": {
   "display_name": "Python 3",
   "language": "python",
   "name": "python3"
  },
  "language_info": {
   "codemirror_mode": {
    "name": "ipython",
    "version": 3
   },
   "file_extension": ".py",
   "mimetype": "text/x-python",
   "name": "python",
   "nbconvert_exporter": "python",
   "pygments_lexer": "ipython3",
   "version": "3.7.4"
  }
 },
 "nbformat": 4,
 "nbformat_minor": 2
}
