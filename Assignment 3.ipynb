{
 "cells": [
  {
   "cell_type": "code",
   "execution_count": 7,
   "metadata": {},
   "outputs": [
    {
     "name": "stdout",
     "output_type": "stream",
     "text": [
      "Operator (+,-,*,/,^): &\n",
      "Enter 1st Number: 12\n",
      "Enter 2nd Number: 43\n",
      "Please enter a valid operator\n"
     ]
    }
   ],
   "source": [
    "#Make a calculator using Python with addition , subtraction , multiplication, division and power.\n",
    "\n",
    "operator=input(\"Operator (+,-,*,/,^): \")\n",
    "num1=int(input('Enter 1st Number: '))\n",
    "num2=int(input('Enter 2nd Number: '))\n",
    "\n",
    "if (operator == '+'):\n",
    "    ans=num1+num2\n",
    "    print(\"Answer: \",ans)\n",
    "elif (operator == '-'):\n",
    "    ans=num1-num2\n",
    "    print(\"Answer: \",ans)\n",
    "elif (operator == '*'):\n",
    "    ans=num1*num2\n",
    "    print(\"Answer: \",ans)\n",
    "elif (operator == '/'):\n",
    "    ans = num1/num2\n",
    "    print(\"Answer: \",ans)\n",
    "elif (operator == '^'):\n",
    "    ans = num1**num2\n",
    "    print(\"Answer: \",ans)\n",
    "else:\n",
    "    print(\"Please enter a valid operator\")"
   ]
  },
  {
   "cell_type": "code",
   "execution_count": 6,
   "metadata": {},
   "outputs": [
    {
     "name": "stdout",
     "output_type": "stream",
     "text": [
      "23 is numeric\n",
      "trekker is not numeric\n",
      "two is not numeric\n",
      "55 is numeric\n"
     ]
    }
   ],
   "source": [
    "#Write a program to check if there is any numeric value in list using for loop\n",
    "\n",
    "list1=[23,\"trekker\",\"two\",55.87]\n",
    "for item in list1:\n",
    "    if (type(item)==int or type(item)==float):\n",
    "        print(\"%d is numeric\" %item)\n",
    "    else:\n",
    "        print(\"%s is not numeric\" %item)"
   ]
  },
  {
   "cell_type": "code",
   "execution_count": 22,
   "metadata": {},
   "outputs": [
    {
     "name": "stdout",
     "output_type": "stream",
     "text": [
      "Enter a key: mammal\n",
      "Enter a value: whale\n",
      "{'plants': 'sunflower', 'insects': 'spider', 'reptiles': 'snakes', 'mammal': 'whale'}\n"
     ]
    }
   ],
   "source": [
    "#Write a Python script to add a key to a dictionary\n",
    "\n",
    "dict1={\"plants\":\"sunflower\", \"insects\":\"spider\", \"reptiles\":\"snakes\"}\n",
    "key1=input(\"Enter a key: \")\n",
    "value1=input(\"Enter a value: \")\n",
    "dict1[key1]=value1\n",
    "print(dict1)\n"
   ]
  },
  {
   "cell_type": "code",
   "execution_count": 20,
   "metadata": {},
   "outputs": [
    {
     "name": "stdout",
     "output_type": "stream",
     "text": [
      "This is not a numeric value:  maaz\n",
      "This is not a numeric value:  games\n",
      "Sum is :  282.2\n"
     ]
    }
   ],
   "source": [
    "#Write a Python program to sum all the numeric items in a dictionary\n",
    "\n",
    "dict2={\"name\":\"maaz\", \"age\": 24, \"height_in_cm\": 188, \"weight_in_kg\":70.2, \"hobby\":\"games\"}\n",
    "sum1=0\n",
    "for item in dict2:\n",
    "    if (type(dict2[item])==int or type(dict2[item])==float):\n",
    "        sum1=sum1+dict2[item]\n",
    "    else:\n",
    "        print(\"This is not a numeric value: \", dict2[item])\n",
    "print(\"Sum is : \", sum1)"
   ]
  },
  {
   "cell_type": "code",
   "execution_count": 1,
   "metadata": {},
   "outputs": [
    {
     "name": "stdout",
     "output_type": "stream",
     "text": [
      "Dupicate entry exists\n"
     ]
    }
   ],
   "source": [
    "#Write a program to identify duplicate values from list\n",
    "\n",
    "counter=0\n",
    "list1=[\"karachi\",\"islamabad\",\"lahore\",\"islamabad\",\"peshawar\"]\n",
    "for i in range(len(list1)):\n",
    "    for j in range(len(list1)):\n",
    "        if (i==j):\n",
    "            j=j+1\n",
    "        elif (list1[i]==list1[j]):\n",
    "            counter=counter+1 \n",
    "            \n",
    "if(counter>0):\n",
    "    print(\"Dupicate entry exists\")\n",
    "else:\n",
    "    print(\"No duplicate entry\")"
   ]
  },
  {
   "cell_type": "code",
   "execution_count": 3,
   "metadata": {},
   "outputs": [
    {
     "name": "stdout",
     "output_type": "stream",
     "text": [
      "Dupicate entry exists\n"
     ]
    }
   ],
   "source": [
    "#Write a Python script to check if a given key already exists in a dictionary\n",
    "\n",
    "counter=0\n",
    "dict1={\"plants\":\"sunflower\", \"insects\":\"spider\", \"creepy\": \"spider\",\"reptiles\":\"snakes\"}\n",
    "for i in dict1:\n",
    "    for j in dict1:\n",
    "        if (i==j):\n",
    "            break\n",
    "        elif (dict1[i]==dict1[j]):\n",
    "            counter=counter+1 \n",
    "\n",
    "if(counter>0):\n",
    "    print(\"Dupicate entry exists\")\n",
    "else:\n",
    "    print(\"No duplicate entry\")"
   ]
  },
  {
   "cell_type": "code",
   "execution_count": null,
   "metadata": {},
   "outputs": [],
   "source": []
  }
 ],
 "metadata": {
  "kernelspec": {
   "display_name": "Python 3",
   "language": "python",
   "name": "python3"
  },
  "language_info": {
   "codemirror_mode": {
    "name": "ipython",
    "version": 3
   },
   "file_extension": ".py",
   "mimetype": "text/x-python",
   "name": "python",
   "nbconvert_exporter": "python",
   "pygments_lexer": "ipython3",
   "version": "3.7.4"
  }
 },
 "nbformat": 4,
 "nbformat_minor": 2
}
