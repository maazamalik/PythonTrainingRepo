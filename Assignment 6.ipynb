{
 "cells": [
  {
   "cell_type": "code",
   "execution_count": 24,
   "metadata": {},
   "outputs": [
    {
     "name": "stdout",
     "output_type": "stream",
     "text": [
      "Engine started!\n",
      "Name: Toyota\n",
      "Make: 2014\n",
      "Model: Corolla\n",
      "Color: White\n",
      "Car_type: Sedan\n",
      "\n",
      "\n",
      "Engine Stopped!\n",
      "Name: BMW\n",
      "Make: 2019\n",
      "Model: 118i\n",
      "Color: Black\n",
      "Car_type: Hatchback\n",
      "\n",
      "\n",
      "Full acceleration!\n",
      "Name: Audi\n",
      "Make: 2018\n",
      "Model: TT\n",
      "Color: Blue\n",
      "Car_type: Sports\n"
     ]
    }
   ],
   "source": [
    "class Car:\n",
    "    \n",
    "    def start(self, name,model,car_type):\n",
    "        self.name=name\n",
    "        self.make=\"2014\"\n",
    "        self.model=model\n",
    "        self.color=\"White\"\n",
    "        self.car_type=car_type\n",
    "        print(\"Engine started!\")\n",
    "    def stop(self, name,make,color):\n",
    "        self.name=name\n",
    "        self.make=make\n",
    "        self.model=\"118i\"\n",
    "        self.color=color\n",
    "        self.car_type=\"Hatchback\"\n",
    "        print(\"Engine Stopped!\")\n",
    "    def accelerate(self, make,color,car_type):\n",
    "        self.name=\"Audi\"\n",
    "        self.make=make\n",
    "        self.model=\"TT\"\n",
    "        self.color=color\n",
    "        self.car_type=car_type\n",
    "        print(\"Full acceleration!\")\n",
    "    \n",
    "\n",
    "car_1=Car()\n",
    "car_1.start(\"Toyota\",\"Corolla\",\"Sedan\")\n",
    "print(\"Name: \" + car_1.name + \"\\n\" + \"Make: \" + car_1.make + \"\\nModel: \" + car_1.model + \"\\nColor: \" + car_1.color + \"\\nCar_type: \" + car_1.car_type)\n",
    "\n",
    "print(\"\\n\")\n",
    "car_2=Car()\n",
    "car_2.stop(\"BMW\",\"2019\",\"Black\")\n",
    "print(\"Name: \" + car_2.name + \"\\n\" + \"Make: \" + car_2.make + \"\\nModel: \" + car_2.model + \"\\nColor: \" + car_2.color + \"\\nCar_type: \" + car_2.car_type)\n",
    "\n",
    "print(\"\\n\")\n",
    "car_3=Car()\n",
    "car_3.accelerate(\"2018\",\"Blue\",\"Sports\")\n",
    "print(\"Name: \" + car_3.name + \"\\n\" + \"Make: \" + car_3.make + \"\\nModel: \" + car_3.model + \"\\nColor: \" + car_3.color + \"\\nCar_type: \" + car_3.car_type)\n"
   ]
  },
  {
   "cell_type": "code",
   "execution_count": null,
   "metadata": {},
   "outputs": [],
   "source": []
  }
 ],
 "metadata": {
  "kernelspec": {
   "display_name": "Python 3",
   "language": "python",
   "name": "python3"
  },
  "language_info": {
   "codemirror_mode": {
    "name": "ipython",
    "version": 3
   },
   "file_extension": ".py",
   "mimetype": "text/x-python",
   "name": "python",
   "nbconvert_exporter": "python",
   "pygments_lexer": "ipython3",
   "version": "3.7.4"
  }
 },
 "nbformat": 4,
 "nbformat_minor": 2
}
