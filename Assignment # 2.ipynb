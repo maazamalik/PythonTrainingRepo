{
 "cells": [
  {
   "cell_type": "code",
   "execution_count": 16,
   "metadata": {},
   "outputs": [
    {
     "name": "stdout",
     "output_type": "stream",
     "text": [
      "Enter your English Marks: 78\n",
      "Enter your Maths Marks: 76\n",
      "Enter your Physics Marks: 98\n",
      "Enter your Chemistry Marks: 78\n",
      "Enter your Biology Marks: 84\n",
      "Grade is A+\n",
      "Percentage is:  82.8\n"
     ]
    }
   ],
   "source": [
    "English=int(input(\"Enter your English Marks: \"))\n",
    "Maths=int(input(\"Enter your Maths Marks: \"))\n",
    "Physics=int(input(\"Enter your Physics Marks: \"))\n",
    "Chemistry=int(input(\"Enter your Chemistry Marks: \"))\n",
    "Biology=int(input(\"Enter your Biology Marks: \"))\n",
    "Obtained_Marks=English+Maths+Physics+Chemistry+Biology\n",
    "Total_Marks=500\n",
    "Per=(Obtained_Marks/Total_Marks)*100\n",
    "if (Per>=80 and Per<=100):\n",
    "    print(\"Grade is A+\")\n",
    "elif(Per>=70 and Per<80):\n",
    "    print(\"Grade is A\")\n",
    "elif(Per>=60 and Per<70):\n",
    "    print(\"Grade is B\")\n",
    "elif(Per>=50 and Per<60):\n",
    "    print(\"Grade is C\")\n",
    "elif(Per>=40 and Per<50):\n",
    "    print(\"Grade is D\")\n",
    "elif(Per>=33 and Per<40):\n",
    "    print(\"Grade is E\")\n",
    "elif(Per<33):\n",
    "    print(\"Grade is F\")\n",
    "else :\n",
    "    print(\"Please Enter the Correct Number\")\n",
    "print(\"Percentage is: \", Per)"
   ]
  },
  {
   "cell_type": "code",
   "execution_count": 15,
   "metadata": {},
   "outputs": [
    {
     "name": "stdout",
     "output_type": "stream",
     "text": [
      "Enter a number: 54\n",
      "The number 54 is Even\n"
     ]
    }
   ],
   "source": [
    "Number=int(input(\"Enter a number: \"))\n",
    "if (Number%2==0):\n",
    "    print(\"The number %d is Even\" %(Number))\n",
    "else:\n",
    "    print(\"The number %d is odd\" %(Number))"
   ]
  },
  {
   "cell_type": "code",
   "execution_count": 20,
   "metadata": {},
   "outputs": [
    {
     "name": "stdout",
     "output_type": "stream",
     "text": [
      "length of the list is:  3\n"
     ]
    }
   ],
   "source": [
    "list1=[12,'apple', 43.59]\n",
    "length=len(list1)\n",
    "print(\"length of the list is: \",length)"
   ]
  },
  {
   "cell_type": "code",
   "execution_count": 8,
   "metadata": {},
   "outputs": [
    {
     "name": "stdout",
     "output_type": "stream",
     "text": [
      "orange is not numeric\n",
      "total is: 65.65\n"
     ]
    }
   ],
   "source": [
    "list2=[23,'orange',42.65]\n",
    "total=0\n",
    "for i in range(0,len(list2)):\n",
    "    item=list2[i]\n",
    "    if type(item)==int or type(item)==float:\n",
    "        total=total+item;\n",
    "    else:\n",
    "        print(\"%s is not numeric\" %(item))\n",
    "print(\"total is:\" , total)"
   ]
  },
  {
   "cell_type": "code",
   "execution_count": 62,
   "metadata": {},
   "outputs": [
    {
     "name": "stdout",
     "output_type": "stream",
     "text": [
      "54 is greater than 54\n",
      "54 is greater than 24\n",
      "54 is not greater than 76\n",
      "76 is not greater than 185\n",
      "185 is not greater than 311\n",
      "311 is greater than 39\n",
      "311 is greater than 52\n",
      "greatest number is: 311\n"
     ]
    }
   ],
   "source": [
    "list3=[54,24,76,185,311,39,52]\n",
    "j=-1\n",
    "item=list3[0]\n",
    "for i in range(0,len(list3)):\n",
    "    if (item>=list3[i]):\n",
    "        greater=item;\n",
    "        print(\"%d is greater than %d\" %(item,list3[i]))\n",
    "            \n",
    "    else:\n",
    "            greater=list3[i]\n",
    "            print(\"%d is not greater than %d\" %(item,list3[i]))\n",
    "            item=greater\n",
    "print(\"The greatest number is: %d\" %greater)"
   ]
  },
  {
   "cell_type": "code",
   "execution_count": 64,
   "metadata": {},
   "outputs": [
    {
     "name": "stdout",
     "output_type": "stream",
     "text": [
      "1\n",
      "1\n",
      "2\n",
      "3\n"
     ]
    }
   ],
   "source": [
    "a = [1, 1, 2, 3, 5, 8, 13, 21, 34, 55, 89]\n",
    "for i in range(0,len(a)):\n",
    "    if (a[i]<5):\n",
    "        print(a[i])"
   ]
  },
  {
   "cell_type": "code",
   "execution_count": 47,
   "metadata": {},
   "outputs": [
    {
     "name": "stdout",
     "output_type": "stream",
     "text": [
      "orange is not numeric\n",
      "total is: 65.65\n"
     ]
    }
   ],
   "source": []
  },
  {
   "cell_type": "code",
   "execution_count": null,
   "metadata": {},
   "outputs": [],
   "source": []
  }
 ],
 "metadata": {
  "kernelspec": {
   "display_name": "Python 3",
   "language": "python",
   "name": "python3"
  },
  "language_info": {
   "codemirror_mode": {
    "name": "ipython",
    "version": 3
   },
   "file_extension": ".py",
   "mimetype": "text/x-python",
   "name": "python",
   "nbconvert_exporter": "python",
   "pygments_lexer": "ipython3",
   "version": "3.7.4"
  }
 },
 "nbformat": 4,
 "nbformat_minor": 2
}
