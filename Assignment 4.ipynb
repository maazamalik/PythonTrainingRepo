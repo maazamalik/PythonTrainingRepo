{
 "cells": [
  {
   "cell_type": "code",
   "execution_count": 11,
   "metadata": {},
   "outputs": [
    {
     "name": "stdout",
     "output_type": "stream",
     "text": [
      "first_name=Masood\n",
      "last_name=Ahmed\n",
      "age=25\n",
      "city=karachi\n",
      "{'first_name': 'Masood', 'last_name': 'Ahmed', 'age': '25', 'city': 'karachi', 'qualification': 'Bachelors'}\n",
      "{'first_name': 'Masood', 'last_name': 'Ahmed', 'age': '25', 'city': 'karachi', 'qualification': 'Masters'}\n",
      "{'first_name': 'Masood', 'last_name': 'Ahmed', 'age': '25', 'city': 'karachi'}\n"
     ]
    }
   ],
   "source": [
    "my_friend={\"first_name\" : \"Masood\", \"last_name\" : \"Ahmed\", \"age\" : \"25\", \"city\" : \"karachi\"}\n",
    "for value in my_friend:\n",
    "    print(value + \"=\" + my_friend[value])\n",
    "my_friend.update({\"qualification\" : \"Bachelors\"})\n",
    "print(my_friend)\n",
    "my_friend[\"qualification\"] = \"Masters\"\n",
    "print(my_friend)\n",
    "my_friend.pop(\"qualification\")\n",
    "print(my_friend)"
   ]
  },
  {
   "cell_type": "code",
   "execution_count": 33,
   "metadata": {},
   "outputs": [
    {
     "name": "stdout",
     "output_type": "stream",
     "text": [
      "Karachi\n",
      "{'Country': 'Pakistan', 'Population': '15M', 'Fact': '8th biggest city in the world'}\n",
      "London\n",
      "{'Country': 'England', 'Population': '9M', 'Fact': 'Capital of England'}\n",
      "New York\n",
      "{'Country': 'USA', 'Population': '8.6M', 'Fact': 'The Empire State building gets hit by lightning about 23 times per year'}\n"
     ]
    }
   ],
   "source": [
    "cities = {\"Karachi\":\n",
    "        {\"Country\" : \"Pakistan\", \"Population\" : \"15M\" , \"Fact\" : \"8th biggest city in the world\"},\n",
    "          \"London\":\n",
    "        {\"Country\" : \"England\", \"Population\" : \"9M\" , \"Fact\" : \"Capital of England\"},\n",
    "          \"New York\":\n",
    "        {\"Country\" : \"USA\", \"Population\" : \"8.6M\" , \"Fact\" : \"The Empire State building gets hit by lightning about 23 times per year\"}}\n",
    "\n",
    "for city in cities:\n",
    "    print(city + \"\\n\" + str(cities[city]))"
   ]
  },
  {
   "cell_type": "code",
   "execution_count": 1,
   "metadata": {},
   "outputs": [
    {
     "name": "stdout",
     "output_type": "stream",
     "text": [
      "Enter the age: 1\n",
      "Ticket price: free!\n",
      "Enter the age: 0\n",
      "Unexpected input\n",
      "Enter the age: err\n"
     ]
    },
    {
     "ename": "ValueError",
     "evalue": "invalid literal for int() with base 10: 'err'",
     "output_type": "error",
     "traceback": [
      "\u001b[1;31m---------------------------------------------------------------------------\u001b[0m",
      "\u001b[1;31mValueError\u001b[0m                                Traceback (most recent call last)",
      "\u001b[1;32m<ipython-input-1-083178770f96>\u001b[0m in \u001b[0;36m<module>\u001b[1;34m\u001b[0m\n\u001b[0;32m      1\u001b[0m \u001b[1;32mwhile\u001b[0m \u001b[1;33m(\u001b[0m\u001b[1;36m1\u001b[0m\u001b[1;33m)\u001b[0m\u001b[1;33m:\u001b[0m\u001b[1;33m\u001b[0m\u001b[1;33m\u001b[0m\u001b[0m\n\u001b[1;32m----> 2\u001b[1;33m     \u001b[0mage\u001b[0m\u001b[1;33m=\u001b[0m\u001b[0mint\u001b[0m\u001b[1;33m(\u001b[0m\u001b[0minput\u001b[0m\u001b[1;33m(\u001b[0m\u001b[1;34m\"Enter the age: \"\u001b[0m\u001b[1;33m)\u001b[0m\u001b[1;33m)\u001b[0m\u001b[1;33m\u001b[0m\u001b[1;33m\u001b[0m\u001b[0m\n\u001b[0m\u001b[0;32m      3\u001b[0m     \u001b[1;32mif\u001b[0m \u001b[1;33m(\u001b[0m\u001b[0mage\u001b[0m\u001b[1;33m<\u001b[0m\u001b[1;36m3\u001b[0m \u001b[1;32mand\u001b[0m \u001b[0mage\u001b[0m\u001b[1;33m>\u001b[0m\u001b[1;36m0\u001b[0m\u001b[1;33m)\u001b[0m\u001b[1;33m:\u001b[0m\u001b[1;33m\u001b[0m\u001b[1;33m\u001b[0m\u001b[0m\n\u001b[0;32m      4\u001b[0m         \u001b[0mprint\u001b[0m\u001b[1;33m(\u001b[0m\u001b[1;34m\"Ticket price: free!\"\u001b[0m\u001b[1;33m)\u001b[0m\u001b[1;33m\u001b[0m\u001b[1;33m\u001b[0m\u001b[0m\n\u001b[0;32m      5\u001b[0m     \u001b[1;32melif\u001b[0m \u001b[1;33m(\u001b[0m\u001b[0mage\u001b[0m\u001b[1;33m>=\u001b[0m\u001b[1;36m3\u001b[0m \u001b[1;32mand\u001b[0m \u001b[0mage\u001b[0m\u001b[1;33m<=\u001b[0m\u001b[1;36m12\u001b[0m\u001b[1;33m)\u001b[0m\u001b[1;33m:\u001b[0m\u001b[1;33m\u001b[0m\u001b[1;33m\u001b[0m\u001b[0m\n",
      "\u001b[1;31mValueError\u001b[0m: invalid literal for int() with base 10: 'err'"
     ]
    }
   ],
   "source": [
    "while (1):\n",
    "    age=int(input(\"Enter the age: \"))\n",
    "    if (age<3 and age>0):\n",
    "        print(\"Ticket price: free!\")\n",
    "    elif (age>=3 and age<=12):\n",
    "        print(\"Ticket price: $10\")\n",
    "    elif (age>12):\n",
    "        print(\"Ticket price: $15\")\n",
    "    else:\n",
    "        print(\"Unexpected input\")\n"
   ]
  },
  {
   "cell_type": "code",
   "execution_count": 5,
   "metadata": {},
   "outputs": [
    {
     "name": "stdout",
     "output_type": "stream",
     "text": [
      "Enter your favourite book: Maze Runner\n",
      "One of my favorite book is:  Maze Runner\n"
     ]
    }
   ],
   "source": [
    "def favorite_book(title):\n",
    "    print(\"One of my favorite book is: \",title)\n",
    "\n",
    "favorite_book(input(\"Enter your favourite book: \"))"
   ]
  },
  {
   "cell_type": "code",
   "execution_count": 6,
   "metadata": {},
   "outputs": [
    {
     "ename": "NameError",
     "evalue": "name 'randint' is not defined",
     "output_type": "error",
     "traceback": [
      "\u001b[1;31m---------------------------------------------------------------------------\u001b[0m",
      "\u001b[1;31mNameError\u001b[0m                                 Traceback (most recent call last)",
      "\u001b[1;32m<ipython-input-6-2e7906960da7>\u001b[0m in \u001b[0;36m<module>\u001b[1;34m\u001b[0m\n\u001b[1;32m----> 1\u001b[1;33m \u001b[0mrandint\u001b[0m\u001b[1;33m(\u001b[0m\u001b[1;33m)\u001b[0m\u001b[1;33m\u001b[0m\u001b[1;33m\u001b[0m\u001b[0m\n\u001b[0m",
      "\u001b[1;31mNameError\u001b[0m: name 'randint' is not defined"
     ]
    }
   ],
   "source": [
    "randint()\n"
   ]
  },
  {
   "cell_type": "code",
   "execution_count": 11,
   "metadata": {},
   "outputs": [],
   "source": [
    "import random\n",
    "\n"
   ]
  },
  {
   "cell_type": "code",
   "execution_count": 44,
   "metadata": {},
   "outputs": [
    {
     "name": "stdout",
     "output_type": "stream",
     "text": [
      "Guess the number: 15\n",
      "The number is lesser than your guess\n",
      "Guess the number: 11\n",
      "The number is lesser than your guess\n",
      "Guess the number: 5\n",
      "The number is lesser than your guess\n",
      "Sorry you lost!\n"
     ]
    }
   ],
   "source": [
    "import random\n",
    "chance=1\n",
    "random=random.randint(1,30)\n",
    "for i in range(0,3):\n",
    "    guess=int(input(\"Guess the number: \"))\n",
    "    if guess==random :\n",
    "        print(\"Congratulations! You guessed it correctly!\")\n",
    "    elif guess>random:\n",
    "        print(\"The number is lesser than your guess\")\n",
    "    elif guess<random:\n",
    "        print(\"The number is greater than your guess\")\n",
    "print(\"Sorry you lost!\")\n",
    "\n"
   ]
  },
  {
   "cell_type": "code",
   "execution_count": 35,
   "metadata": {},
   "outputs": [
    {
     "data": {
      "text/plain": [
       "18"
      ]
     },
     "execution_count": 35,
     "metadata": {},
     "output_type": "execute_result"
    }
   ],
   "source": [
    "import random\n",
    "random.randint(1,30)\n"
   ]
  },
  {
   "cell_type": "code",
   "execution_count": null,
   "metadata": {},
   "outputs": [],
   "source": []
  }
 ],
 "metadata": {
  "kernelspec": {
   "display_name": "Python 3",
   "language": "python",
   "name": "python3"
  }
 },
 "nbformat": 4,
 "nbformat_minor": 2
}
